{
 "cells": [
  {
   "cell_type": "markdown",
   "id": "fc9b2374",
   "metadata": {},
   "source": [
    "### For each of the following questions, formulate a null and alternative hypothesis (be as specific as you can be), then give an example of what a true positive, true negative, type I and type II errors would look like. Note that some of the questions are intentionally phrased in a vague way. It is your job to reword these as more precise questions that could be tested."
   ]
  },
  {
   "cell_type": "markdown",
   "id": "87da131a",
   "metadata": {},
   "source": [
    "#### Has the network latency gone up since we switched internet service providers?\n"
   ]
  },
  {
   "cell_type": "code",
   "execution_count": null,
   "id": "3ff21521",
   "metadata": {},
   "outputs": [],
   "source": [
    "# Null Hypothessis: There is not a significant difference in latency between ISP A and ISP B.\n",
    "# Alt Hypothesis: The latency of ISP B is higher than ISP A."
   ]
  },
  {
   "cell_type": "code",
   "execution_count": null,
   "id": "e9221710",
   "metadata": {},
   "outputs": [],
   "source": [
    "# Type I: There is no difference in latency between the two providers, but the test signifies that there is.\n",
    "    # Type I error rejects a TRUE Null Hypothesis (False-Positive)\n",
    "    \n",
    "# Type II: There is a latency difference between the two ISP's, but the test shows that there is no difference.\n",
    "    # Type II error fails to reject a FALSE Null Hypothesis"
   ]
  },
  {
   "cell_type": "markdown",
   "id": "363e93c4",
   "metadata": {},
   "source": [
    "#### Is the website redesign any good?"
   ]
  },
  {
   "cell_type": "code",
   "execution_count": null,
   "id": "7145f09e",
   "metadata": {},
   "outputs": [],
   "source": [
    "# Null: There is no difference in click throughs between the original website and the redesign.\n",
    "# Alt: The website redesign has increased the amount of click throughs."
   ]
  },
  {
   "cell_type": "code",
   "execution_count": null,
   "id": "cd428cae",
   "metadata": {},
   "outputs": [],
   "source": [
    "# Type I: There is no difference between the sites, but the test shows that redesign has improved click throughs.\n",
    "             # rejects(Null Hypothesis True)              ,         (Alt Hypothesis False)\n",
    "\n",
    "# Type II: Website redesign has increased clickthroughs, but the test shows that there is no difference between\n",
    "#          the two sites.\n",
    "#                 accepts(Null Hypothesis False)          ,         (Alt Hypothesis True)"
   ]
  },
  {
   "cell_type": "markdown",
   "id": "aeb3f019",
   "metadata": {},
   "source": [
    "#### Is our television ad driving more sales?"
   ]
  },
  {
   "cell_type": "code",
   "execution_count": null,
   "id": "68b061b7",
   "metadata": {},
   "outputs": [],
   "source": [
    "# Null: The television ad has no effect on driving more sales.\n",
    "# Alt: The television ad is effective at driving more sales."
   ]
  },
  {
   "cell_type": "code",
   "execution_count": null,
   "id": "5a82f762",
   "metadata": {},
   "outputs": [],
   "source": [
    "# Type I: Television ad does not improve sales, but the test shows that it does.\n",
    "\n",
    "# Type II: TV ad does improve sales, but the test shows that there is no difference in sales with the TV ad."
   ]
  }
 ],
 "metadata": {
  "kernelspec": {
   "display_name": "Python 3 (ipykernel)",
   "language": "python",
   "name": "python3"
  },
  "language_info": {
   "codemirror_mode": {
    "name": "ipython",
    "version": 3
   },
   "file_extension": ".py",
   "mimetype": "text/x-python",
   "name": "python",
   "nbconvert_exporter": "python",
   "pygments_lexer": "ipython3",
   "version": "3.9.13"
  }
 },
 "nbformat": 4,
 "nbformat_minor": 5
}
