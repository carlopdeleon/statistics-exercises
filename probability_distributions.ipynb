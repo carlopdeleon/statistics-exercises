{
 "cells": [
  {
   "cell_type": "code",
   "execution_count": null,
   "id": "7c987e42",
   "metadata": {},
   "outputs": [],
   "source": [
    "# TYPES OF DISTRIBUTIONS: \n",
    "\n",
    "# Uniform distributions have equal likelyhoods amont all outcomes, like a fair coin.\n",
    "# Binomial distributions are all about determining a binary outcome of an event. Success/failure, for example\n",
    "# Normal distributions model a continuous random variable.\n",
    "# Poisson distributions a certain amount of events occuring over a time interval\n",
    "# There are many more distribution shapes. This lesson will focus on the first four."
   ]
  },
  {
   "cell_type": "code",
   "execution_count": null,
   "id": "4719af9b",
   "metadata": {},
   "outputs": [],
   "source": [
    "# DISTRIBUTION METHODS: \n",
    "\n",
    "# rvs : random variates\n",
    "# pmf/pdf : probability mass function (discrete)/ probability density function (continious)\n",
    "# cdf/ ppf : cumulative density function/ percent point function\n",
    "# sf/ isf : survival function/ inverse survival function"
   ]
  },
  {
   "cell_type": "markdown",
   "id": "b7439ff5",
   "metadata": {},
   "source": [
    "### 1.A bank found that the average number of cars waiting during the noon hour at a drive-up window follows a Poisson distribution with a mean of 2 cars. Make a chart of this distribution and answer these questions concerning the probability of cars waiting at the drive-up window."
   ]
  },
  {
   "cell_type": "code",
   "execution_count": 19,
   "id": "1cea00f2",
   "metadata": {},
   "outputs": [],
   "source": [
    "import pandas as pd\n",
    "import numpy as np\n",
    "from scipy import stats\n",
    "\n",
    "import matplotlib.pyplot as plt\n",
    "%matplotlib inline\n",
    "\n",
    "import seaborn as sns\n",
    "import viz \n",
    "\n",
    "np.random.seed(123)"
   ]
  },
  {
   "cell_type": "markdown",
   "id": "3066a0e7",
   "metadata": {},
   "source": [
    "#### What is the probability that no cars drive up in the noon hour?"
   ]
  },
  {
   "cell_type": "code",
   "execution_count": 223,
   "id": "f3727afc",
   "metadata": {},
   "outputs": [
    {
     "data": {
      "text/plain": [
       "<BarContainer object of 12 artists>"
      ]
     },
     "execution_count": 223,
     "metadata": {},
     "output_type": "execute_result"
    },
    {
     "data": {
      "image/png": "[encoded data removed]",
      "text/plain": [
       "<Figure size 900x600 with 1 Axes>"
      ]
     },
     "metadata": {},
     "output_type": "display_data"
    }
   ],
   "source": [
    "x = np.arange(0, 12)\n",
    "y = stats.poisson(avg_cars).pmf(x)\n",
    "\n",
    "plt.bar(x,y)\n"
   ]
  },
  {
   "cell_type": "code",
   "execution_count": 225,
   "id": "1fb8bb6e",
   "metadata": {},
   "outputs": [
    {
     "data": {
      "text/plain": [
       "array([1.35335283e-01, 2.70670566e-01, 2.70670566e-01, 1.80447044e-01,\n",
       "       9.02235222e-02, 3.60894089e-02, 1.20298030e-02, 3.43708656e-03,\n",
       "       8.59271640e-04, 1.90949253e-04, 3.81898506e-05, 6.94360921e-06])"
      ]
     },
     "execution_count": 225,
     "metadata": {},
     "output_type": "execute_result"
    }
   ],
   "source": [
    "y"
   ]
  },
  {
   "cell_type": "code",
   "execution_count": 227,
   "id": "e15223b3",
   "metadata": {},
   "outputs": [
    {
     "data": {
      "text/plain": [
       "0.1353352832366127"
      ]
     },
     "execution_count": 227,
     "metadata": {},
     "output_type": "execute_result"
    }
   ],
   "source": [
    "# Poisson distribution is number of events over a time interval\n",
    "avg_cars = 2\n",
    "\n",
    "# used pmf because we are looking for a discrete value\n",
    "no_cars = stats.poisson(avg_cars).pmf(0)\n",
    "no_cars"
   ]
  },
  {
   "cell_type": "markdown",
   "id": "f790067c",
   "metadata": {},
   "source": [
    "#### What is the probability that 3 or more cars come through the drive through?"
   ]
  },
  {
   "cell_type": "code",
   "execution_count": 228,
   "id": "6f86fb80",
   "metadata": {},
   "outputs": [
    {
     "data": {
      "text/plain": [
       "0.32332358381693654"
      ]
     },
     "execution_count": 228,
     "metadata": {},
     "output_type": "execute_result"
    }
   ],
   "source": [
    "# used survival function to measure probabilty that 3 or more cars will come through\n",
    "three_cars = stats.poisson(avg_cars).sf(2)\n",
    "three_cars"
   ]
  },
  {
   "cell_type": "code",
   "execution_count": null,
   "id": "2e6f6a40",
   "metadata": {},
   "outputs": [],
   "source": [
    "sns.histplot() # figure out how to plot"
   ]
  },
  {
   "cell_type": "markdown",
   "id": "bbe14fff",
   "metadata": {},
   "source": [
    "#### How likely is it that the drive through gets at least 1 car?"
   ]
  },
  {
   "cell_type": "code",
   "execution_count": 229,
   "id": "0732f841",
   "metadata": {},
   "outputs": [
    {
     "data": {
      "text/plain": [
       "0.8646647167633873"
      ]
     },
     "execution_count": 229,
     "metadata": {},
     "output_type": "execute_result"
    }
   ],
   "source": [
    "# used survival function to get values of 1 car or more\n",
    "stats.poisson(2).sf(0)"
   ]
  },
  {
   "cell_type": "code",
   "execution_count": null,
   "id": "6a72b241",
   "metadata": {},
   "outputs": [],
   "source": []
  },
  {
   "cell_type": "markdown",
   "id": "d866371e",
   "metadata": {},
   "source": [
    "### 2.Grades of State University graduates are normally distributed with a mean of 3.0 and a standard deviation of .3. Calculate the following:"
   ]
  },
  {
   "cell_type": "markdown",
   "id": "677212d6",
   "metadata": {},
   "source": [
    "#### What grade point average is required to be in the top 5% of the graduating class?"
   ]
  },
  {
   "cell_type": "code",
   "execution_count": 29,
   "id": "d54a366c",
   "metadata": {},
   "outputs": [
    {
     "data": {
      "text/plain": [
       "3.4934560880854417"
      ]
     },
     "execution_count": 29,
     "metadata": {},
     "output_type": "execute_result"
    }
   ],
   "source": [
    "# used ppf to get cutoff point to be in the top 5%\n",
    "stats.norm(3, 0.3).ppf(.95)"
   ]
  },
  {
   "cell_type": "markdown",
   "id": "2285c40f",
   "metadata": {},
   "source": [
    "#### What GPA constitutes the bottom 15% of the class?"
   ]
  },
  {
   "cell_type": "code",
   "execution_count": 30,
   "id": "b5d47060",
   "metadata": {},
   "outputs": [
    {
     "data": {
      "text/plain": [
       "2.689069983151863"
      ]
     },
     "execution_count": 30,
     "metadata": {},
     "output_type": "execute_result"
    }
   ],
   "source": [
    "stats.norm(3, 0.3).ppf(.15)"
   ]
  },
  {
   "cell_type": "markdown",
   "id": "c7bf319c",
   "metadata": {},
   "source": [
    "#### An eccentric alumnus left scholarship money for students in the third decile from the bottom of their class. Determine the range of the third decile. Would a student with a 2.8 grade point average qualify for this scholarship?"
   ]
  },
  {
   "cell_type": "code",
   "execution_count": 231,
   "id": "9a3404a0",
   "metadata": {},
   "outputs": [
    {
     "data": {
      "text/plain": [
       "array([2.74751363, 2.84267985])"
      ]
     },
     "execution_count": 231,
     "metadata": {},
     "output_type": "execute_result"
    }
   ],
   "source": [
    "stats.norm(3, 0.3).ppf([0.2,0.3]) \n",
    "# student with 2.8 GPA does qualify for the scholarship"
   ]
  },
  {
   "cell_type": "markdown",
   "id": "1bc27ccd",
   "metadata": {},
   "source": [
    "#### If I have a GPA of 3.5, what percentile am I in?"
   ]
  },
  {
   "cell_type": "code",
   "execution_count": 35,
   "id": "35dc5f5f",
   "metadata": {},
   "outputs": [
    {
     "data": {
      "text/plain": [
       "0.9522096477271853"
      ]
     },
     "execution_count": 35,
     "metadata": {},
     "output_type": "execute_result"
    }
   ],
   "source": [
    "stats.norm(3.0,0.3).cdf(3.5)\n",
    "# 95th percentile"
   ]
  },
  {
   "cell_type": "markdown",
   "id": "9e43cac3",
   "metadata": {},
   "source": [
    "### 3. A marketing website has an average click-through rate of 2%. One day they observe 4326 visitors and 97 click-throughs. How likely is it that this many people or more click through?"
   ]
  },
  {
   "cell_type": "code",
   "execution_count": 59,
   "id": "37440c14",
   "metadata": {},
   "outputs": [
    {
     "data": {
      "text/plain": [
       "0.8821846941402153"
      ]
     },
     "execution_count": 59,
     "metadata": {},
     "output_type": "execute_result"
    }
   ],
   "source": [
    "stats.binom(4326, 0.02).cdf(97)\n",
    "# 88% chance that at least 97 people would click through"
   ]
  },
  {
   "cell_type": "code",
   "execution_count": 232,
   "id": "6190dace",
   "metadata": {},
   "outputs": [
    {
     "data": {
      "text/plain": [
       "0.13975823631416448"
      ]
     },
     "execution_count": 232,
     "metadata": {},
     "output_type": "execute_result"
    }
   ],
   "source": [
    "# class review solution\n",
    "\n",
    "stats.binom(4326, .02).sf(96)"
   ]
  },
  {
   "cell_type": "markdown",
   "id": "514b0a54",
   "metadata": {},
   "source": [
    "### 4. You are working on some statistics homework consisting of 100 questions where all of the answers are a probability rounded to the hundreths place. Looking to save time, you put down random probabilities as the answer to each question."
   ]
  },
  {
   "cell_type": "markdown",
   "id": "345c3e69",
   "metadata": {},
   "source": [
    "#### What is the probability that at least one of your first 60 answers is correct?"
   ]
  },
  {
   "cell_type": "code",
   "execution_count": 216,
   "id": "23d5631a",
   "metadata": {},
   "outputs": [
    {
     "data": {
      "text/plain": [
       "0.12123327131180726"
      ]
     },
     "execution_count": 216,
     "metadata": {},
     "output_type": "execute_result"
    }
   ],
   "source": [
    "stats.binom(60, 0.01).sf(1)\n",
    "# My mistake on the problem is that I thought '1' was inclusive. "
   ]
  },
  {
   "cell_type": "code",
   "execution_count": 208,
   "id": "0979ac9e",
   "metadata": {},
   "outputs": [
    {
     "data": {
      "text/plain": [
       "0.013777078966010659"
      ]
     },
     "execution_count": 208,
     "metadata": {},
     "output_type": "execute_result"
    }
   ],
   "source": [
    "stats.binom.cdf(1,60,.1)"
   ]
  },
  {
   "cell_type": "code",
   "execution_count": 234,
   "id": "aaa27668",
   "metadata": {},
   "outputs": [
    {
     "data": {
      "text/plain": [
       "0.45284335760923855"
      ]
     },
     "execution_count": 234,
     "metadata": {},
     "output_type": "execute_result"
    }
   ],
   "source": [
    "# class review solution\n",
    "\n",
    "n_trials = 60\n",
    "p = 0.01\n",
    "\n",
    "stats.binom(n_trials, p).sf(0)"
   ]
  },
  {
   "cell_type": "markdown",
   "id": "9180769f",
   "metadata": {},
   "source": [
    "### 5. The codeup staff tends to get upset when the student break area is not cleaned up. Suppose that there's a 3% chance that any one student cleans the break area when they visit it, and, on any given day, about 90% of the 3 active cohorts of 22 students visit the break area. How likely is it that the break area gets cleaned up each day? How likely is it that it goes two days without getting cleaned up? All week?"
   ]
  },
  {
   "cell_type": "code",
   "execution_count": 96,
   "id": "3124196f",
   "metadata": {},
   "outputs": [
    {
     "data": {
      "text/plain": [
       "0.4073659668325024"
      ]
     },
     "execution_count": 96,
     "metadata": {},
     "output_type": "execute_result"
    }
   ],
   "source": [
    "x =stats.binom.cdf(1, 66, 0.03)\n",
    "x"
   ]
  },
  {
   "cell_type": "code",
   "execution_count": 239,
   "id": "d9af28f7",
   "metadata": {},
   "outputs": [
    {
     "data": {
      "text/plain": [
       "59"
      ]
     },
     "execution_count": 239,
     "metadata": {},
     "output_type": "execute_result"
    }
   ],
   "source": [
    "students = round(.9 * 22 * 3)\n",
    "students"
   ]
  },
  {
   "cell_type": "code",
   "execution_count": 240,
   "id": "c8b28688",
   "metadata": {},
   "outputs": [
    {
     "data": {
      "text/plain": [
       "0.8342199288437352"
      ]
     },
     "execution_count": 240,
     "metadata": {},
     "output_type": "execute_result"
    }
   ],
   "source": [
    "# Class review solution\n",
    "\n",
    "stats.binom(students, 0.03).sf(0)"
   ]
  },
  {
   "cell_type": "code",
   "execution_count": 244,
   "id": "feb8af2e",
   "metadata": {},
   "outputs": [],
   "source": [
    "two_days = students * 2\n"
   ]
  },
  {
   "cell_type": "code",
   "execution_count": 246,
   "id": "7fe0d12c",
   "metadata": {},
   "outputs": [
    {
     "data": {
      "text/plain": [
       "0.027483031992576134"
      ]
     },
     "execution_count": 246,
     "metadata": {},
     "output_type": "execute_result"
    }
   ],
   "source": [
    "stats.binom(two_days, 0.03).pmf(0)"
   ]
  },
  {
   "cell_type": "code",
   "execution_count": 247,
   "id": "46115bc5",
   "metadata": {},
   "outputs": [
    {
     "data": {
      "text/plain": [
       "0.02748303199257622"
      ]
     },
     "execution_count": 247,
     "metadata": {},
     "output_type": "execute_result"
    }
   ],
   "source": [
    "stats.binom(two_days, 0.03).cdf(0)"
   ]
  },
  {
   "cell_type": "markdown",
   "id": "8a881ee2",
   "metadata": {},
   "source": [
    "### 6. You want to get lunch at La Panaderia, but notice that the line is usually very long at lunchtime. After several weeks of careful observation, you notice that the average number of people in line when your lunch break starts is normally distributed with a mean of 15 and standard deviation of 3. If it takes 2 minutes for each person to order, and 10 minutes from ordering to getting your food, what is the likelihood that you have at least 15 minutes left to eat your food before you have to go back to class? Assume you have one hour for lunch, and ignore travel time to and from La Panaderia."
   ]
  },
  {
   "cell_type": "code",
   "execution_count": 124,
   "id": "4bb2b1c1",
   "metadata": {},
   "outputs": [],
   "source": [
    "mean = 15\n",
    "std = 3\n",
    "lunch = 60\n",
    "order_time = 2 \n",
    "order_complete = order_time + 10\n",
    "order_and_eat= 15 + order_complete"
   ]
  },
  {
   "cell_type": "code",
   "execution_count": 118,
   "id": "0afb2e71",
   "metadata": {},
   "outputs": [],
   "source": [
    "t_mean = mean * order_time\n",
    "t_std = std * order_time"
   ]
  },
  {
   "cell_type": "code",
   "execution_count": 125,
   "id": "9fb7555f",
   "metadata": {},
   "outputs": [
    {
     "data": {
      "text/plain": [
       "0.6914624612740131"
      ]
     },
     "execution_count": 125,
     "metadata": {},
     "output_type": "execute_result"
    }
   ],
   "source": [
    "stats.norm(t_mean, t_std).sf(order_and_eat)\n",
    "# 69.1% chance there will be enough time to order food, get it, and still have 15min left to eat."
   ]
  },
  {
   "cell_type": "code",
   "execution_count": null,
   "id": "dc33ab72",
   "metadata": {},
   "outputs": [],
   "source": [
    "# use sf to get chance you have at least 15min or more for lunch"
   ]
  },
  {
   "cell_type": "code",
   "execution_count": null,
   "id": "7384931b",
   "metadata": {},
   "outputs": [],
   "source": []
  },
  {
   "cell_type": "code",
   "execution_count": 249,
   "id": "08da7748",
   "metadata": {},
   "outputs": [
    {
     "data": {
      "text/plain": [
       "0.6914624612740131"
      ]
     },
     "execution_count": 249,
     "metadata": {},
     "output_type": "execute_result"
    }
   ],
   "source": [
    "# Class Review Solution\n",
    "\n",
    "# used cdf instead, same answer\n",
    "total_wait_time = 33\n",
    "\n",
    "stats.norm(t_mean, t_std).cdf(total_wait_time)"
   ]
  },
  {
   "cell_type": "markdown",
   "id": "ec76e183",
   "metadata": {},
   "source": [
    "### 7. Connect to the employees database and find the average salary of current employees, along with the standard deviation. For the following questions, calculate the answer based on modeling the employees salaries with a normal distribution defined by the calculated mean and standard deviation then compare this answer to the actual values present in the salaries dataset."
   ]
  },
  {
   "cell_type": "code",
   "execution_count": 126,
   "id": "e7df5552",
   "metadata": {},
   "outputs": [],
   "source": [
    "import env\n",
    "import os"
   ]
  },
  {
   "cell_type": "code",
   "execution_count": 127,
   "id": "636a7d67",
   "metadata": {},
   "outputs": [],
   "source": [
    "def get_db_url(db, env_file = os.path.exists('env.py')):\n",
    "    '''\n",
    "    return a formatted string containing username, password, host, and database for connecting to the mySQL server\n",
    "    and the database indicated.\n",
    "    env_file checks to see if the env.py exists in cwd\n",
    "    '''\n",
    "    if env_file:\n",
    "        username, password, host = (env.username, env.password, env.host)\n",
    "        return f'mysql+pymysql://{username}:{password}@{host}/{db}'\n",
    "    else:\n",
    "        return 'hello, you need a username and password to get in.'\n",
    "\n",
    "url = get_db_url('employees')"
   ]
  },
  {
   "cell_type": "code",
   "execution_count": 132,
   "id": "4d16859c",
   "metadata": {},
   "outputs": [],
   "source": [
    "query = '''\n",
    "SHOW tables\n",
    "'''\n",
    "run_query = pd.read_sql(query, url)"
   ]
  },
  {
   "cell_type": "code",
   "execution_count": 133,
   "id": "85418043",
   "metadata": {},
   "outputs": [
    {
     "data": {
      "text/html": [
       "<div>\n",
       "<style scoped>\n",
       "    .dataframe tbody tr th:only-of-type {\n",
       "        vertical-align: middle;\n",
       "    }\n",
       "\n",
       "    .dataframe tbody tr th {\n",
       "        vertical-align: top;\n",
       "    }\n",
       "\n",
       "    .dataframe thead th {\n",
       "        text-align: right;\n",
       "    }\n",
       "</style>\n",
       "<table border=\"1\" class=\"dataframe\">\n",
       "  <thead>\n",
       "    <tr style=\"text-align: right;\">\n",
       "      <th></th>\n",
       "      <th>Tables_in_employees</th>\n",
       "    </tr>\n",
       "  </thead>\n",
       "  <tbody>\n",
       "    <tr>\n",
       "      <th>0</th>\n",
       "      <td>departments</td>\n",
       "    </tr>\n",
       "    <tr>\n",
       "      <th>1</th>\n",
       "      <td>dept_emp</td>\n",
       "    </tr>\n",
       "    <tr>\n",
       "      <th>2</th>\n",
       "      <td>dept_manager</td>\n",
       "    </tr>\n",
       "    <tr>\n",
       "      <th>3</th>\n",
       "      <td>employees</td>\n",
       "    </tr>\n",
       "    <tr>\n",
       "      <th>4</th>\n",
       "      <td>salaries</td>\n",
       "    </tr>\n",
       "    <tr>\n",
       "      <th>5</th>\n",
       "      <td>titles</td>\n",
       "    </tr>\n",
       "  </tbody>\n",
       "</table>\n",
       "</div>"
      ],
      "text/plain": [
       "  Tables_in_employees\n",
       "0         departments\n",
       "1            dept_emp\n",
       "2        dept_manager\n",
       "3           employees\n",
       "4            salaries\n",
       "5              titles"
      ]
     },
     "execution_count": 133,
     "metadata": {},
     "output_type": "execute_result"
    }
   ],
   "source": [
    "run_query"
   ]
  },
  {
   "cell_type": "code",
   "execution_count": 196,
   "id": "de3afc8e",
   "metadata": {},
   "outputs": [
    {
     "data": {
      "text/html": [
       "<div>\n",
       "<style scoped>\n",
       "    .dataframe tbody tr th:only-of-type {\n",
       "        vertical-align: middle;\n",
       "    }\n",
       "\n",
       "    .dataframe tbody tr th {\n",
       "        vertical-align: top;\n",
       "    }\n",
       "\n",
       "    .dataframe thead th {\n",
       "        text-align: right;\n",
       "    }\n",
       "</style>\n",
       "<table border=\"1\" class=\"dataframe\">\n",
       "  <thead>\n",
       "    <tr style=\"text-align: right;\">\n",
       "      <th></th>\n",
       "      <th>emp_no</th>\n",
       "      <th>salary</th>\n",
       "    </tr>\n",
       "  </thead>\n",
       "  <tbody>\n",
       "    <tr>\n",
       "      <th>0</th>\n",
       "      <td>43624</td>\n",
       "      <td>158220</td>\n",
       "    </tr>\n",
       "    <tr>\n",
       "      <th>1</th>\n",
       "      <td>254466</td>\n",
       "      <td>156286</td>\n",
       "    </tr>\n",
       "    <tr>\n",
       "      <th>2</th>\n",
       "      <td>47978</td>\n",
       "      <td>155709</td>\n",
       "    </tr>\n",
       "    <tr>\n",
       "      <th>3</th>\n",
       "      <td>253939</td>\n",
       "      <td>155513</td>\n",
       "    </tr>\n",
       "    <tr>\n",
       "      <th>4</th>\n",
       "      <td>109334</td>\n",
       "      <td>155190</td>\n",
       "    </tr>\n",
       "    <tr>\n",
       "      <th>...</th>\n",
       "      <td>...</td>\n",
       "      <td>...</td>\n",
       "    </tr>\n",
       "    <tr>\n",
       "      <th>240119</th>\n",
       "      <td>230890</td>\n",
       "      <td>39036</td>\n",
       "    </tr>\n",
       "    <tr>\n",
       "      <th>240120</th>\n",
       "      <td>15830</td>\n",
       "      <td>39012</td>\n",
       "    </tr>\n",
       "    <tr>\n",
       "      <th>240121</th>\n",
       "      <td>401786</td>\n",
       "      <td>38942</td>\n",
       "    </tr>\n",
       "    <tr>\n",
       "      <th>240122</th>\n",
       "      <td>245832</td>\n",
       "      <td>38936</td>\n",
       "    </tr>\n",
       "    <tr>\n",
       "      <th>240123</th>\n",
       "      <td>253406</td>\n",
       "      <td>38623</td>\n",
       "    </tr>\n",
       "  </tbody>\n",
       "</table>\n",
       "<p>240124 rows × 2 columns</p>\n",
       "</div>"
      ],
      "text/plain": [
       "        emp_no  salary\n",
       "0        43624  158220\n",
       "1       254466  156286\n",
       "2        47978  155709\n",
       "3       253939  155513\n",
       "4       109334  155190\n",
       "...        ...     ...\n",
       "240119  230890   39036\n",
       "240120   15830   39012\n",
       "240121  401786   38942\n",
       "240122  245832   38936\n",
       "240123  253406   38623\n",
       "\n",
       "[240124 rows x 2 columns]"
      ]
     },
     "execution_count": 196,
     "metadata": {},
     "output_type": "execute_result"
    }
   ],
   "source": [
    "salary = pd.read_sql('SELECT emp_no, salary FROM salaries WHERE to_date > NOW() ORDER BY salary DESC', url)\n",
    "salary"
   ]
  },
  {
   "cell_type": "code",
   "execution_count": 197,
   "id": "4fbaf787",
   "metadata": {},
   "outputs": [
    {
     "data": {
      "text/plain": [
       "0.729385650747114"
      ]
     },
     "execution_count": 197,
     "metadata": {},
     "output_type": "execute_result"
    }
   ],
   "source": [
    "a =(salary['salary'] > 60000).sum()\n",
    "b = len(salary)\n",
    "a / b"
   ]
  },
  {
   "cell_type": "code",
   "execution_count": 198,
   "id": "86ec0764",
   "metadata": {},
   "outputs": [
    {
     "data": {
      "text/plain": [
       "72012.23585730705"
      ]
     },
     "execution_count": 198,
     "metadata": {},
     "output_type": "execute_result"
    }
   ],
   "source": [
    "m_salary = salary['salary'].mean()\n",
    "m_salary"
   ]
  },
  {
   "cell_type": "code",
   "execution_count": 199,
   "id": "f4712012",
   "metadata": {},
   "outputs": [
    {
     "data": {
      "text/plain": [
       "17309.995380251883"
      ]
     },
     "execution_count": 199,
     "metadata": {},
     "output_type": "execute_result"
    }
   ],
   "source": [
    "std_salary = salary['salary'].std()\n",
    "std_salary"
   ]
  },
  {
   "cell_type": "markdown",
   "id": "648a1d24",
   "metadata": {},
   "source": [
    "#### What percent of employees earn less than 60,000?\n"
   ]
  },
  {
   "cell_type": "code",
   "execution_count": 250,
   "id": "ca6981f6",
   "metadata": {},
   "outputs": [
    {
     "data": {
      "text/plain": [
       "0.243857424802143"
      ]
     },
     "execution_count": 250,
     "metadata": {},
     "output_type": "execute_result"
    }
   ],
   "source": [
    "stats.norm(m_salary, std_salary).cdf(60000)"
   ]
  },
  {
   "cell_type": "markdown",
   "id": "b9b641f7",
   "metadata": {},
   "source": [
    "#### What percent of employees earn more than 95,000?"
   ]
  },
  {
   "cell_type": "code",
   "execution_count": 201,
   "id": "da7f47cd",
   "metadata": {},
   "outputs": [
    {
     "data": {
      "text/plain": [
       "0.0920881919980393"
      ]
     },
     "execution_count": 201,
     "metadata": {},
     "output_type": "execute_result"
    }
   ],
   "source": [
    "stats.norm(m_salary, std_salary).sf(95000)"
   ]
  },
  {
   "cell_type": "markdown",
   "id": "00a2615c",
   "metadata": {},
   "source": [
    "#### What percent of employees earn between 65,000 and 80,000?"
   ]
  },
  {
   "cell_type": "code",
   "execution_count": 259,
   "id": "0ac0186f",
   "metadata": {},
   "outputs": [
    {
     "data": {
      "text/plain": [
       "0.6572970780493494"
      ]
     },
     "execution_count": 259,
     "metadata": {},
     "output_type": "execute_result"
    }
   ],
   "source": [
    "between1 = stats.norm(m_salary, std_salary).sf(65000) \n",
    "between1"
   ]
  },
  {
   "cell_type": "code",
   "execution_count": 260,
   "id": "845acc29",
   "metadata": {},
   "outputs": [
    {
     "data": {
      "text/plain": [
       "0.677763490495319"
      ]
     },
     "execution_count": 260,
     "metadata": {},
     "output_type": "execute_result"
    }
   ],
   "source": [
    "between2 = stats.norm(m_salary, std_salary).cdf(80000)\n",
    "between2"
   ]
  },
  {
   "cell_type": "code",
   "execution_count": 263,
   "id": "c9f9f3ca",
   "metadata": {},
   "outputs": [
    {
     "data": {
      "text/plain": [
       "0.020466412445969584"
      ]
     },
     "execution_count": 263,
     "metadata": {},
     "output_type": "execute_result"
    }
   ],
   "source": [
    "between2 - between1"
   ]
  },
  {
   "cell_type": "code",
   "execution_count": null,
   "id": "2d532505",
   "metadata": {},
   "outputs": [],
   "source": [
    "# Class Review Solution\n",
    "\n"
   ]
  },
  {
   "cell_type": "code",
   "execution_count": 205,
   "id": "219a9c92",
   "metadata": {},
   "outputs": [
    {
     "data": {
      "text/html": [
       "<div>\n",
       "<style scoped>\n",
       "    .dataframe tbody tr th:only-of-type {\n",
       "        vertical-align: middle;\n",
       "    }\n",
       "\n",
       "    .dataframe tbody tr th {\n",
       "        vertical-align: top;\n",
       "    }\n",
       "\n",
       "    .dataframe thead th {\n",
       "        text-align: right;\n",
       "    }\n",
       "</style>\n",
       "<table border=\"1\" class=\"dataframe\">\n",
       "  <thead>\n",
       "    <tr style=\"text-align: right;\">\n",
       "      <th></th>\n",
       "      <th>emp_no</th>\n",
       "      <th>salary</th>\n",
       "    </tr>\n",
       "  </thead>\n",
       "  <tbody>\n",
       "    <tr>\n",
       "      <th>69789</th>\n",
       "      <td>439207</td>\n",
       "      <td>79999</td>\n",
       "    </tr>\n",
       "    <tr>\n",
       "      <th>69790</th>\n",
       "      <td>218540</td>\n",
       "      <td>79999</td>\n",
       "    </tr>\n",
       "    <tr>\n",
       "      <th>69791</th>\n",
       "      <td>100554</td>\n",
       "      <td>79999</td>\n",
       "    </tr>\n",
       "    <tr>\n",
       "      <th>69792</th>\n",
       "      <td>72969</td>\n",
       "      <td>79999</td>\n",
       "    </tr>\n",
       "    <tr>\n",
       "      <th>69793</th>\n",
       "      <td>67611</td>\n",
       "      <td>79998</td>\n",
       "    </tr>\n",
       "    <tr>\n",
       "      <th>...</th>\n",
       "      <td>...</td>\n",
       "      <td>...</td>\n",
       "    </tr>\n",
       "    <tr>\n",
       "      <th>147850</th>\n",
       "      <td>289369</td>\n",
       "      <td>65001</td>\n",
       "    </tr>\n",
       "    <tr>\n",
       "      <th>147851</th>\n",
       "      <td>433266</td>\n",
       "      <td>65001</td>\n",
       "    </tr>\n",
       "    <tr>\n",
       "      <th>147852</th>\n",
       "      <td>474959</td>\n",
       "      <td>65001</td>\n",
       "    </tr>\n",
       "    <tr>\n",
       "      <th>147853</th>\n",
       "      <td>19317</td>\n",
       "      <td>65001</td>\n",
       "    </tr>\n",
       "    <tr>\n",
       "      <th>147854</th>\n",
       "      <td>60107</td>\n",
       "      <td>65001</td>\n",
       "    </tr>\n",
       "  </tbody>\n",
       "</table>\n",
       "<p>78066 rows × 2 columns</p>\n",
       "</div>"
      ],
      "text/plain": [
       "        emp_no  salary\n",
       "69789   439207   79999\n",
       "69790   218540   79999\n",
       "69791   100554   79999\n",
       "69792    72969   79999\n",
       "69793    67611   79998\n",
       "...        ...     ...\n",
       "147850  289369   65001\n",
       "147851  433266   65001\n",
       "147852  474959   65001\n",
       "147853   19317   65001\n",
       "147854   60107   65001\n",
       "\n",
       "[78066 rows x 2 columns]"
      ]
     },
     "execution_count": 205,
     "metadata": {},
     "output_type": "execute_result"
    }
   ],
   "source": [
    "salary[(salary['salary'] > 65000) & (salary['salary'] < 80000)]"
   ]
  },
  {
   "cell_type": "markdown",
   "id": "6cb92266",
   "metadata": {},
   "source": [
    "#### What do the top 5% of employees make?"
   ]
  },
  {
   "cell_type": "code",
   "execution_count": 206,
   "id": "d7e8c8cb",
   "metadata": {},
   "outputs": [
    {
     "data": {
      "text/plain": [
       "100484.64454102759"
      ]
     },
     "execution_count": 206,
     "metadata": {},
     "output_type": "execute_result"
    }
   ],
   "source": [
    "stats.norm(m_salary, std_salary).ppf(.95)"
   ]
  },
  {
   "cell_type": "markdown",
   "id": "d404c564",
   "metadata": {},
   "source": [
    "### (HINT) If you're looking at this exercise and wondering \"How do I get pandas to talk the database, again?\", remember that you'll need 3 things: your .gitignore, your env.py, and to use pd.read_sql. Copy over your .gitignore and env.py from your data science libraries exercises folder, and connect to the employees database like so:"
   ]
  }
 ],
 "metadata": {
  "kernelspec": {
   "display_name": "Python 3 (ipykernel)",
   "language": "python",
   "name": "python3"
  },
  "language_info": {
   "codemirror_mode": {
    "name": "ipython",
    "version": 3
   },
   "file_extension": ".py",
   "mimetype": "text/x-python",
   "name": "python",
   "nbconvert_exporter": "python",
   "pygments_lexer": "ipython3",
   "version": "3.9.13"
  }
 },
 "nbformat": 4,
 "nbformat_minor": 5
}
